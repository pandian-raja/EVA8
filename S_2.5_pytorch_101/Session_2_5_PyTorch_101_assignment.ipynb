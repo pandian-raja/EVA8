{
  "nbformat": 4,
  "nbformat_minor": 0,
  "metadata": {
    "colab": {
      "provenance": [],
      "authorship_tag": "ABX9TyN708e9evvuiPbpGBNi7hL/",
      "include_colab_link": true
    },
    "kernelspec": {
      "name": "python3",
      "display_name": "Python 3"
    },
    "language_info": {
      "name": "python"
    },
    "accelerator": "GPU",
    "gpuClass": "standard"
  },
  "cells": [
    {
      "cell_type": "markdown",
      "metadata": {
        "id": "view-in-github",
        "colab_type": "text"
      },
      "source": [
        "<a href=\"https://colab.research.google.com/github/pandian-raja/EVA8/blob/main/Session_2_5_PyTorch_101_assignment.ipynb\" target=\"_parent\"><img src=\"https://colab.research.google.com/assets/colab-badge.svg\" alt=\"Open In Colab\"/></a>"
      ]
    },
    {
      "cell_type": "markdown",
      "source": [
        "Import packages"
      ],
      "metadata": {
        "id": "iUkhlFL7gGeA"
      }
    },
    {
      "cell_type": "code",
      "execution_count": 94,
      "metadata": {
        "id": "uoeuilKL0sI6"
      },
      "outputs": [],
      "source": [
        "import torch\n",
        "import torchvision\n",
        "import torchvision.transforms as transforms\n",
        "from torch.utils.data import Dataset\n",
        "import numpy as np\n",
        "import torch.nn as nn\n",
        "import torch.nn.functional as F\n",
        "import torch.optim as optim\n",
        "from torchsummary import summary\n",
        "\n",
        "randomNumber = torch.tensor([0,1,2,3,4,5,6,7,8,9])"
      ]
    },
    {
      "cell_type": "markdown",
      "source": [
        "Defining test Dataset: "
      ],
      "metadata": {
        "id": "FP2HOw_bgMS3"
      }
    },
    {
      "cell_type": "code",
      "source": [
        "class TestDataSet(Dataset):\n",
        "    def __init__(self):\n",
        "        #Download all the mnist test images and convert into tensor\n",
        "        self.data = torchvision.datasets.MNIST('/content/mnist', train=False, download=True, transform=torchvision.transforms.Compose([\n",
        "                               torchvision.transforms.ToTensor(),\n",
        "                               torchvision.transforms.Normalize(\n",
        "                                 (0.1307,), (0.3081,))\n",
        "                             ]))\n",
        "        #Create random number \n",
        "        self.random = torch.randint(0, 10, (len(self.data),))\n",
        "        \n",
        "    def __getitem__(self, index):\n",
        "        image, label = self.data[index]\n",
        "        # We can't return a int, So to make it flatten\n",
        "        # With a random number, I used eq() to get 1D True/False values and converted them to long int.\n",
        "        randomInput = randomNumber.eq(self.random[index]).long()\n",
        "        return image, label, randomInput\n",
        "\n",
        "    def __len__(self):\n",
        "        return len(self.data)"
      ],
      "metadata": {
        "id": "ENl4KoyUY-ja"
      },
      "execution_count": 95,
      "outputs": []
    },
    {
      "cell_type": "markdown",
      "source": [
        "Defining train Dataset: "
      ],
      "metadata": {
        "id": "8Ro61eLHhTko"
      }
    },
    {
      "cell_type": "code",
      "source": [
        "class TrainDataSet(Dataset):\n",
        "    def __init__(self):\n",
        "        self.data = torchvision.datasets.MNIST('/content/mnist', train=True, download=True, transform=torchvision.transforms.Compose([\n",
        "                               torchvision.transforms.ToTensor(),\n",
        "                               torchvision.transforms.Normalize(\n",
        "                                 (0.1307,), (0.3081,))\n",
        "                             ]))\n",
        "        self.random = torch.randint(0, 10, (len(self.data),))\n",
        "        \n",
        "    def __getitem__(self, index):\n",
        "        image, label = self.data[index]\n",
        "        randomInput = randomNumber.eq(self.random[index]).long()\n",
        "        return image, label, randomInput\n",
        "\n",
        "    def __len__(self):\n",
        "        return len(self.data)"
      ],
      "metadata": {
        "id": "wwc9FgBplEOk"
      },
      "execution_count": 96,
      "outputs": []
    },
    {
      "cell_type": "markdown",
      "source": [
        "Creating model"
      ],
      "metadata": {
        "id": "g4hWNFO5haDe"
      }
    },
    {
      "cell_type": "code",
      "source": [
        "class Network(nn.Module):\n",
        "\n",
        "    def __init__(self):\n",
        "        super().__init__()\n",
        "        #3x3: SIZE { in = 28 , out= 26}, recptive field = 3, CHANNEL { in = 1, out= 16 }\n",
        "        self.conv1 = nn.Conv2d(in_channels=1,out_channels=16,kernel_size=3)\n",
        "        #3x3: SIZE { in = 26 , out= 24}, recptive field = 35, CHANNEL { in = 16, out= 32 }\n",
        "        self.conv2 = nn.Conv2d(in_channels=16,out_channels=32,kernel_size=3)\n",
        "        #3x3: SIZE { in = 24 , out= 22}, recptive field = 7, CHANNEL { in = 32, out= 64 }\n",
        "        self.conv3 = nn.Conv2d(in_channels=32,out_channels=64,kernel_size=3)\n",
        "\n",
        "        #MX: SIZE { in = 22, out = 11},  recptive field = 14, CHANNEL { in = 64, out= 64 } Implemented in forward()\n",
        "\n",
        "        #3x3: SIZE { in = 11 , out= 9}, recptive field = 17, CHANNEL { in = 64, out= 128 }\n",
        "        self.conv4 = nn.Conv2d(in_channels=64,out_channels=128,kernel_size=3)\n",
        "\n",
        "        self.fc1 = nn.Linear(in_features=128*9*9,out_features=64)\n",
        "        self.fc2 = nn.Linear(in_features=64,out_features=10)\n",
        "\n",
        "        self.fc3 = nn.Linear(in_features=10,out_features=20)\n",
        "        self.out = nn.Linear(in_features=20,out_features=19)\n",
        "\n",
        "    def forward(self, image, random):\n",
        "\n",
        "        x = image\n",
        "        x = self.conv1(x)\n",
        "        x = F.relu(x)\n",
        "        x = self.conv2(x)\n",
        "        x = F.relu(x)\n",
        "        x = self.conv3(x)\n",
        "        x = F.relu(x)\n",
        "        x = F.max_pool2d(x, kernel_size=2) \n",
        "        x = self.conv4(x)\n",
        "        x = F.relu(x)\n",
        "        x = x.reshape(-1, 128*9*9)\n",
        "        # x = x.reshape(1, -1)\n",
        "        x = self.fc1(x)\n",
        "        x = F.relu(x)\n",
        "        # Now we have 10 channels and return for mnist and add with random  \n",
        "        mnist_output = self.fc2(x)\n",
        "        # Add mnist_output+random\n",
        "        x = mnist_output+random\n",
        "        # Expand channel to 20 \n",
        "        x = self.fc3(x)\n",
        "        x = F.relu(x)\n",
        "        # Maximum value we get by adding label and random is 19. So made the output as 19 channel \n",
        "        x = self.out(x)\n",
        "        mnist_output = F.softmax(mnist_output, dim=1)\n",
        "        x = F.softmax(x, dim=1)\n",
        "        return mnist_output, x"
      ],
      "metadata": {
        "id": "W0kTyKjslYOb"
      },
      "execution_count": 97,
      "outputs": []
    },
    {
      "cell_type": "code",
      "source": [
        "def get_num_correct(images, labels, random, random_label):\n",
        "    \n",
        "    return images.argmax(dim=1).eq(labels).sum().item(), random.argmax(dim=1).eq(random_label).sum().item()\n"
      ],
      "metadata": {
        "id": "9IFAb1SOMG97"
      },
      "execution_count": 98,
      "outputs": []
    },
    {
      "cell_type": "code",
      "source": [
        "device = torch.device('cuda' if torch.cuda.is_available() else 'cpu')\n",
        "network  = Network()\n",
        "network.to(device)\n",
        "testDataset = TestDataSet()\n",
        "trainDataset = TrainDataSet()\n",
        "testDataLoader = torch.utils.data.DataLoader(testDataset, batch_size=200, shuffle= True)\n",
        "trainDataLoader = torch.utils.data.DataLoader(trainDataset, batch_size=200, shuffle= True)\n",
        "optimizer = optim.Adam(network.parameters(), lr=0.001)\n",
        "totalEpoch = 40\n",
        "for epoch in range(totalEpoch):\n",
        "    total_mnist_loss = 0\n",
        "    total_mnist_correct = 0\n",
        "    total_random_correct = 0\n",
        "    total_random_loss = 0\n",
        "    for batch in trainDataLoader:\n",
        "        images, labels, randoms = batch\n",
        "        images, labels, randoms = images.to(device), labels.to(device), randoms.to(device)\n",
        "        #truth data for random value\n",
        "        random_labels = labels+randoms.argmax(dim=1)\n",
        "        mnist_predict, random_predict = network(images, randoms)\n",
        "        #calculate loss for mnist\n",
        "        mnist_loss = F.cross_entropy(mnist_predict, labels)\n",
        "        #calculate loss for random\n",
        "        random_loss = F.cross_entropy(random_predict, random_labels)\n",
        "        total_mnist_loss += mnist_loss.item()\n",
        "        total_random_loss += random_loss.item()\n",
        "        #Since we can't calculate gradiants twice (mnist_loss,random_loss), So I'm add both loss \n",
        "        loss = mnist_loss+random_loss\n",
        "        optimizer.zero_grad()\n",
        "        #Computes the gradient \n",
        "        loss.backward()\n",
        "        optimizer.step()\n",
        "        result = get_num_correct(mnist_predict,labels,random_predict,random_labels)\n",
        "        total_mnist_correct += result[0]\n",
        "        total_random_correct += result[1]\n",
        "\n",
        "    mnist_accuracy = total_mnist_correct/len(trainDataset)\n",
        "    random_accuracy = total_random_correct/len(trainDataset)\n",
        "    print(\n",
        "        \"epoch:\", epoch+1, \n",
        "        \"MNIST {Correct:\", total_mnist_correct, \n",
        "        \"Accuracy: %.3f\" %mnist_accuracy,\n",
        "        \"Loss: %.2f\" % total_mnist_loss,\n",
        "        \"} RANDOM {Correct:\", total_random_correct, \n",
        "        \"Accuracy: %.3f\" %random_accuracy,\n",
        "        \"Loss: %.2f\" % total_random_loss,\n",
        "        \"} Total {Correct:\", total_mnist_correct+total_random_correct, \n",
        "        \"Accuracy: %.3f\" %((random_accuracy+mnist_accuracy)/2),\n",
        "        \"loss: %.2f }\" % (total_mnist_loss+total_random_loss)\n",
        "    )"
      ],
      "metadata": {
        "colab": {
          "base_uri": "https://localhost:8080/"
        },
        "id": "_dEg-kDZE0a5",
        "outputId": "5aa5ede9-b9f5-4336-bf40-23cd2e4df0c1"
      },
      "execution_count": 99,
      "outputs": [
        {
          "output_type": "stream",
          "name": "stdout",
          "text": [
            "epoch: 1 MNIST {Correct: 53744 Accuracy: 0.896 Loss: 470.44 } RANDOM {Correct: 5750 Accuracy: 0.096 Loss: 874.68 } Total {Correct: 59494 Accuracy: 0.496 loss: 1345.12 }\n",
            "epoch: 2 MNIST {Correct: 58533 Accuracy: 0.976 Loss: 446.07 } RANDOM {Correct: 6471 Accuracy: 0.108 Loss: 871.16 } Total {Correct: 65004 Accuracy: 0.542 loss: 1317.23 }\n",
            "epoch: 3 MNIST {Correct: 59043 Accuracy: 0.984 Loss: 443.44 } RANDOM {Correct: 6768 Accuracy: 0.113 Loss: 870.09 } Total {Correct: 65811 Accuracy: 0.548 loss: 1313.53 }\n",
            "epoch: 4 MNIST {Correct: 59258 Accuracy: 0.988 Loss: 442.27 } RANDOM {Correct: 7054 Accuracy: 0.118 Loss: 869.20 } Total {Correct: 66312 Accuracy: 0.553 loss: 1311.47 }\n",
            "epoch: 5 MNIST {Correct: 59410 Accuracy: 0.990 Loss: 441.55 } RANDOM {Correct: 7381 Accuracy: 0.123 Loss: 868.31 } Total {Correct: 66791 Accuracy: 0.557 loss: 1309.86 }\n",
            "epoch: 6 MNIST {Correct: 59459 Accuracy: 0.991 Loss: 441.26 } RANDOM {Correct: 7746 Accuracy: 0.129 Loss: 867.17 } Total {Correct: 67205 Accuracy: 0.560 loss: 1308.42 }\n",
            "epoch: 7 MNIST {Correct: 59551 Accuracy: 0.993 Loss: 440.84 } RANDOM {Correct: 8089 Accuracy: 0.135 Loss: 866.01 } Total {Correct: 67640 Accuracy: 0.564 loss: 1306.86 }\n",
            "epoch: 8 MNIST {Correct: 59616 Accuracy: 0.994 Loss: 440.51 } RANDOM {Correct: 8539 Accuracy: 0.142 Loss: 864.46 } Total {Correct: 68155 Accuracy: 0.568 loss: 1304.96 }\n",
            "epoch: 9 MNIST {Correct: 59631 Accuracy: 0.994 Loss: 440.48 } RANDOM {Correct: 9026 Accuracy: 0.150 Loss: 862.58 } Total {Correct: 68657 Accuracy: 0.572 loss: 1303.07 }\n",
            "epoch: 10 MNIST {Correct: 59668 Accuracy: 0.994 Loss: 440.22 } RANDOM {Correct: 9547 Accuracy: 0.159 Loss: 860.26 } Total {Correct: 69215 Accuracy: 0.577 loss: 1300.48 }\n",
            "epoch: 11 MNIST {Correct: 59653 Accuracy: 0.994 Loss: 440.26 } RANDOM {Correct: 10166 Accuracy: 0.169 Loss: 857.65 } Total {Correct: 69819 Accuracy: 0.582 loss: 1297.92 }\n",
            "epoch: 12 MNIST {Correct: 59700 Accuracy: 0.995 Loss: 440.00 } RANDOM {Correct: 10909 Accuracy: 0.182 Loss: 854.65 } Total {Correct: 70609 Accuracy: 0.588 loss: 1294.66 }\n",
            "epoch: 13 MNIST {Correct: 59728 Accuracy: 0.995 Loss: 439.92 } RANDOM {Correct: 11666 Accuracy: 0.194 Loss: 850.99 } Total {Correct: 71394 Accuracy: 0.595 loss: 1290.91 }\n",
            "epoch: 14 MNIST {Correct: 59713 Accuracy: 0.995 Loss: 439.89 } RANDOM {Correct: 12619 Accuracy: 0.210 Loss: 846.88 } Total {Correct: 72332 Accuracy: 0.603 loss: 1286.77 }\n",
            "epoch: 15 MNIST {Correct: 59728 Accuracy: 0.995 Loss: 439.85 } RANDOM {Correct: 13463 Accuracy: 0.224 Loss: 843.05 } Total {Correct: 73191 Accuracy: 0.610 loss: 1282.89 }\n",
            "epoch: 16 MNIST {Correct: 59744 Accuracy: 0.996 Loss: 439.72 } RANDOM {Correct: 14361 Accuracy: 0.239 Loss: 838.80 } Total {Correct: 74105 Accuracy: 0.618 loss: 1278.52 }\n",
            "epoch: 17 MNIST {Correct: 59771 Accuracy: 0.996 Loss: 439.65 } RANDOM {Correct: 15062 Accuracy: 0.251 Loss: 835.24 } Total {Correct: 74833 Accuracy: 0.624 loss: 1274.89 }\n",
            "epoch: 18 MNIST {Correct: 59790 Accuracy: 0.997 Loss: 439.56 } RANDOM {Correct: 15845 Accuracy: 0.264 Loss: 831.65 } Total {Correct: 75635 Accuracy: 0.630 loss: 1271.20 }\n",
            "epoch: 19 MNIST {Correct: 59786 Accuracy: 0.996 Loss: 439.54 } RANDOM {Correct: 16521 Accuracy: 0.275 Loss: 828.26 } Total {Correct: 76307 Accuracy: 0.636 loss: 1267.80 }\n",
            "epoch: 20 MNIST {Correct: 59799 Accuracy: 0.997 Loss: 439.44 } RANDOM {Correct: 17271 Accuracy: 0.288 Loss: 824.59 } Total {Correct: 77070 Accuracy: 0.642 loss: 1264.04 }\n",
            "epoch: 21 MNIST {Correct: 59808 Accuracy: 0.997 Loss: 439.42 } RANDOM {Correct: 17926 Accuracy: 0.299 Loss: 821.32 } Total {Correct: 77734 Accuracy: 0.648 loss: 1260.74 }\n",
            "epoch: 22 MNIST {Correct: 59826 Accuracy: 0.997 Loss: 439.33 } RANDOM {Correct: 18566 Accuracy: 0.309 Loss: 818.51 } Total {Correct: 78392 Accuracy: 0.653 loss: 1257.84 }\n",
            "epoch: 23 MNIST {Correct: 59820 Accuracy: 0.997 Loss: 439.35 } RANDOM {Correct: 19076 Accuracy: 0.318 Loss: 815.99 } Total {Correct: 78896 Accuracy: 0.657 loss: 1255.34 }\n",
            "epoch: 24 MNIST {Correct: 59838 Accuracy: 0.997 Loss: 439.27 } RANDOM {Correct: 19584 Accuracy: 0.326 Loss: 813.34 } Total {Correct: 79422 Accuracy: 0.662 loss: 1252.62 }\n",
            "epoch: 25 MNIST {Correct: 59825 Accuracy: 0.997 Loss: 439.33 } RANDOM {Correct: 20003 Accuracy: 0.333 Loss: 811.19 } Total {Correct: 79828 Accuracy: 0.665 loss: 1250.52 }\n",
            "epoch: 26 MNIST {Correct: 59830 Accuracy: 0.997 Loss: 439.31 } RANDOM {Correct: 20410 Accuracy: 0.340 Loss: 809.09 } Total {Correct: 80240 Accuracy: 0.669 loss: 1248.40 }\n",
            "epoch: 27 MNIST {Correct: 59842 Accuracy: 0.997 Loss: 439.24 } RANDOM {Correct: 20656 Accuracy: 0.344 Loss: 807.57 } Total {Correct: 80498 Accuracy: 0.671 loss: 1246.82 }\n",
            "epoch: 28 MNIST {Correct: 59840 Accuracy: 0.997 Loss: 439.25 } RANDOM {Correct: 21155 Accuracy: 0.353 Loss: 805.27 } Total {Correct: 80995 Accuracy: 0.675 loss: 1244.51 }\n",
            "epoch: 29 MNIST {Correct: 59840 Accuracy: 0.997 Loss: 439.24 } RANDOM {Correct: 21397 Accuracy: 0.357 Loss: 804.10 } Total {Correct: 81237 Accuracy: 0.677 loss: 1243.34 }\n",
            "epoch: 30 MNIST {Correct: 59852 Accuracy: 0.998 Loss: 439.18 } RANDOM {Correct: 21696 Accuracy: 0.362 Loss: 802.62 } Total {Correct: 81548 Accuracy: 0.680 loss: 1241.80 }\n",
            "epoch: 31 MNIST {Correct: 59845 Accuracy: 0.997 Loss: 439.21 } RANDOM {Correct: 21931 Accuracy: 0.366 Loss: 801.39 } Total {Correct: 81776 Accuracy: 0.681 loss: 1240.60 }\n",
            "epoch: 32 MNIST {Correct: 59847 Accuracy: 0.997 Loss: 439.20 } RANDOM {Correct: 22043 Accuracy: 0.367 Loss: 800.64 } Total {Correct: 81890 Accuracy: 0.682 loss: 1239.85 }\n",
            "epoch: 33 MNIST {Correct: 59852 Accuracy: 0.998 Loss: 439.15 } RANDOM {Correct: 22423 Accuracy: 0.374 Loss: 798.69 } Total {Correct: 82275 Accuracy: 0.686 loss: 1237.84 }\n",
            "epoch: 34 MNIST {Correct: 59858 Accuracy: 0.998 Loss: 439.15 } RANDOM {Correct: 22686 Accuracy: 0.378 Loss: 797.43 } Total {Correct: 82544 Accuracy: 0.688 loss: 1236.58 }\n",
            "epoch: 35 MNIST {Correct: 59866 Accuracy: 0.998 Loss: 439.07 } RANDOM {Correct: 22866 Accuracy: 0.381 Loss: 796.38 } Total {Correct: 82732 Accuracy: 0.689 loss: 1235.45 }\n",
            "epoch: 36 MNIST {Correct: 59868 Accuracy: 0.998 Loss: 439.09 } RANDOM {Correct: 23079 Accuracy: 0.385 Loss: 795.51 } Total {Correct: 82947 Accuracy: 0.691 loss: 1234.60 }\n",
            "epoch: 37 MNIST {Correct: 59872 Accuracy: 0.998 Loss: 439.09 } RANDOM {Correct: 23267 Accuracy: 0.388 Loss: 794.39 } Total {Correct: 83139 Accuracy: 0.693 loss: 1233.48 }\n",
            "epoch: 38 MNIST {Correct: 59861 Accuracy: 0.998 Loss: 439.13 } RANDOM {Correct: 23458 Accuracy: 0.391 Loss: 793.46 } Total {Correct: 83319 Accuracy: 0.694 loss: 1232.59 }\n",
            "epoch: 39 MNIST {Correct: 59873 Accuracy: 0.998 Loss: 439.08 } RANDOM {Correct: 23579 Accuracy: 0.393 Loss: 792.81 } Total {Correct: 83452 Accuracy: 0.695 loss: 1231.89 }\n",
            "epoch: 40 MNIST {Correct: 59877 Accuracy: 0.998 Loss: 439.05 } RANDOM {Correct: 23748 Accuracy: 0.396 Loss: 791.99 } Total {Correct: 83625 Accuracy: 0.697 loss: 1231.05 }\n"
          ]
        }
      ]
    },
    {
      "cell_type": "code",
      "source": [
        "totalEpoch = 20\n",
        "for epoch in range(totalEpoch):\n",
        "    total_mnist_loss = 0\n",
        "    total_mnist_correct = 0\n",
        "    total_random_correct = 0\n",
        "    total_random_loss = 0\n",
        "    for batch in trainDataLoader:\n",
        "        images, labels, randoms = batch\n",
        "        images, labels, randoms = images.to(device), labels.to(device), randoms.to(device)\n",
        "        random_labels = labels+randoms.argmax(dim=1)\n",
        "        mnist_predict, random_predict = network(images, randoms)\n",
        "        mnist_loss = F.cross_entropy(mnist_predict, labels)\n",
        "        random_loss = F.cross_entropy(random_predict, random_labels)\n",
        "        total_mnist_loss += mnist_loss.item()\n",
        "        total_random_loss += random_loss.item()\n",
        "        loss = mnist_loss+random_loss\n",
        "        optimizer.zero_grad()\n",
        "        loss.backward()\n",
        "        optimizer.step()\n",
        "        result = get_num_correct(mnist_predict,labels,random_predict,random_labels)\n",
        "        total_mnist_correct += result[0]\n",
        "        total_random_correct += result[1]\n",
        "\n",
        "    mnist_accuracy = total_mnist_correct/len(trainDataset)\n",
        "    random_accuracy = total_random_correct/len(trainDataset)\n",
        "    print(\n",
        "        \"epoch:\", epoch, \n",
        "        \"MNIST { Correct:\", total_mnist_correct, \n",
        "        \"Accuracy: %.2f\" %mnist_accuracy,\n",
        "        \"Loss: %.2f\" % total_mnist_loss,\n",
        "        \"} {RANDOM Correct:\", total_random_correct, \n",
        "        \"Accuracy: %.2f\" %random_accuracy,\n",
        "        \"Loss: %.2f\" % total_random_loss,\n",
        "        \"} { Total Correct:\", total_mnist_correct+total_random_correct, \n",
        "        \"Accuracy: %.2f\" %((random_accuracy+mnist_accuracy)/2),\n",
        "        \"loss: %.2f }\" % (total_mnist_loss+total_random_loss)\n",
        "    )"
      ],
      "metadata": {
        "colab": {
          "base_uri": "https://localhost:8080/"
        },
        "id": "XX55FMW_NIOy",
        "outputId": "30a8da4f-b5a7-432c-9b5d-540b3f79dcff"
      },
      "execution_count": 100,
      "outputs": [
        {
          "output_type": "stream",
          "name": "stdout",
          "text": [
            "epoch: 0 MNIST { Correct: 59875 Accuracy: 1.00 Loss: 439.05 } {RANDOM Correct: 23969 Accuracy: 0.40 Loss: 790.81 } { Total Correct: 83844 Accuracy: 0.70 loss: 1229.86 }\n",
            "epoch: 1 MNIST { Correct: 59893 Accuracy: 1.00 Loss: 439.02 } {RANDOM Correct: 23978 Accuracy: 0.40 Loss: 790.69 } { Total Correct: 83871 Accuracy: 0.70 loss: 1229.71 }\n",
            "epoch: 2 MNIST { Correct: 59886 Accuracy: 1.00 Loss: 439.02 } {RANDOM Correct: 24162 Accuracy: 0.40 Loss: 789.70 } { Total Correct: 84048 Accuracy: 0.70 loss: 1228.72 }\n",
            "epoch: 3 MNIST { Correct: 59887 Accuracy: 1.00 Loss: 439.01 } {RANDOM Correct: 24304 Accuracy: 0.41 Loss: 789.06 } { Total Correct: 84191 Accuracy: 0.70 loss: 1228.07 }\n",
            "epoch: 4 MNIST { Correct: 59873 Accuracy: 1.00 Loss: 439.08 } {RANDOM Correct: 24311 Accuracy: 0.41 Loss: 789.04 } { Total Correct: 84184 Accuracy: 0.70 loss: 1228.12 }\n",
            "epoch: 5 MNIST { Correct: 59893 Accuracy: 1.00 Loss: 439.01 } {RANDOM Correct: 24552 Accuracy: 0.41 Loss: 787.75 } { Total Correct: 84445 Accuracy: 0.70 loss: 1226.76 }\n",
            "epoch: 6 MNIST { Correct: 59895 Accuracy: 1.00 Loss: 438.95 } {RANDOM Correct: 24753 Accuracy: 0.41 Loss: 786.72 } { Total Correct: 84648 Accuracy: 0.71 loss: 1225.67 }\n",
            "epoch: 7 MNIST { Correct: 59898 Accuracy: 1.00 Loss: 438.97 } {RANDOM Correct: 24871 Accuracy: 0.41 Loss: 785.98 } { Total Correct: 84769 Accuracy: 0.71 loss: 1224.96 }\n",
            "epoch: 8 MNIST { Correct: 59897 Accuracy: 1.00 Loss: 438.95 } {RANDOM Correct: 24960 Accuracy: 0.42 Loss: 785.44 } { Total Correct: 84857 Accuracy: 0.71 loss: 1224.39 }\n",
            "epoch: 9 MNIST { Correct: 59891 Accuracy: 1.00 Loss: 439.02 } {RANDOM Correct: 25113 Accuracy: 0.42 Loss: 784.83 } { Total Correct: 85004 Accuracy: 0.71 loss: 1223.85 }\n",
            "epoch: 10 MNIST { Correct: 59905 Accuracy: 1.00 Loss: 438.93 } {RANDOM Correct: 25244 Accuracy: 0.42 Loss: 783.98 } { Total Correct: 85149 Accuracy: 0.71 loss: 1222.90 }\n",
            "epoch: 11 MNIST { Correct: 59895 Accuracy: 1.00 Loss: 438.99 } {RANDOM Correct: 25382 Accuracy: 0.42 Loss: 783.37 } { Total Correct: 85277 Accuracy: 0.71 loss: 1222.37 }\n",
            "epoch: 12 MNIST { Correct: 59899 Accuracy: 1.00 Loss: 438.98 } {RANDOM Correct: 25512 Accuracy: 0.43 Loss: 782.85 } { Total Correct: 85411 Accuracy: 0.71 loss: 1221.83 }\n",
            "epoch: 13 MNIST { Correct: 59909 Accuracy: 1.00 Loss: 438.95 } {RANDOM Correct: 25564 Accuracy: 0.43 Loss: 782.44 } { Total Correct: 85473 Accuracy: 0.71 loss: 1221.40 }\n",
            "epoch: 14 MNIST { Correct: 59890 Accuracy: 1.00 Loss: 439.02 } {RANDOM Correct: 25656 Accuracy: 0.43 Loss: 782.12 } { Total Correct: 85546 Accuracy: 0.71 loss: 1221.15 }\n",
            "epoch: 15 MNIST { Correct: 59909 Accuracy: 1.00 Loss: 438.95 } {RANDOM Correct: 25825 Accuracy: 0.43 Loss: 781.16 } { Total Correct: 85734 Accuracy: 0.71 loss: 1220.11 }\n",
            "epoch: 16 MNIST { Correct: 59910 Accuracy: 1.00 Loss: 438.93 } {RANDOM Correct: 25986 Accuracy: 0.43 Loss: 780.27 } { Total Correct: 85896 Accuracy: 0.72 loss: 1219.20 }\n",
            "epoch: 17 MNIST { Correct: 59904 Accuracy: 1.00 Loss: 438.95 } {RANDOM Correct: 26068 Accuracy: 0.43 Loss: 779.79 } { Total Correct: 85972 Accuracy: 0.72 loss: 1218.73 }\n",
            "epoch: 18 MNIST { Correct: 59908 Accuracy: 1.00 Loss: 438.94 } {RANDOM Correct: 26129 Accuracy: 0.44 Loss: 779.35 } { Total Correct: 86037 Accuracy: 0.72 loss: 1218.29 }\n",
            "epoch: 19 MNIST { Correct: 59903 Accuracy: 1.00 Loss: 438.98 } {RANDOM Correct: 26230 Accuracy: 0.44 Loss: 778.81 } { Total Correct: 86133 Accuracy: 0.72 loss: 1217.79 }\n"
          ]
        }
      ]
    },
    {
      "cell_type": "code",
      "source": [
        "for epoch in range(totalEpoch):\n",
        "    total_mnist_loss = 0\n",
        "    total_mnist_correct = 0\n",
        "    total_random_correct = 0\n",
        "    total_random_loss = 0\n",
        "    for batch in trainDataLoader:\n",
        "        images, labels, randoms = batch\n",
        "        images, labels, randoms = images.to(device), labels.to(device), randoms.to(device)\n",
        "        random_labels = labels+randoms.argmax(dim=1)\n",
        "        mnist_predict, random_predict = network(images, randoms)\n",
        "        mnist_loss = F.cross_entropy(mnist_predict, labels)\n",
        "        random_loss = F.cross_entropy(random_predict, random_labels)\n",
        "        total_mnist_loss += mnist_loss.item()\n",
        "        total_random_loss += random_loss.item()\n",
        "        loss = mnist_loss+random_loss\n",
        "        optimizer.zero_grad()\n",
        "        loss.backward()\n",
        "        optimizer.step()\n",
        "        result = get_num_correct(mnist_predict,labels,random_predict,random_labels)\n",
        "        total_mnist_correct += result[0]\n",
        "        total_random_correct += result[1]\n",
        "\n",
        "    mnist_accuracy = total_mnist_correct/len(trainDataset)\n",
        "    random_accuracy = total_random_correct/len(trainDataset)\n",
        "    print(\n",
        "        \"epoch:\", epoch+60, \n",
        "        \"MNIST {Correct:\", total_mnist_correct, \n",
        "        \"Accuracy: %.3f\" %mnist_accuracy,\n",
        "        \"Loss: %.2f\" % total_mnist_loss,\n",
        "        \"} RANDOM {Correct:\", total_random_correct, \n",
        "        \"Accuracy: %.3f\" %random_accuracy,\n",
        "        \"Loss: %.2f\" % total_random_loss,\n",
        "        \"} Total {Correct:\", total_mnist_correct+total_random_correct, \n",
        "        \"Accuracy: %.3f\" %((random_accuracy+mnist_accuracy)/2),\n",
        "        \"loss: %.2f }\" % (total_mnist_loss+total_random_loss)\n",
        "    )"
      ],
      "metadata": {
        "colab": {
          "base_uri": "https://localhost:8080/"
        },
        "id": "ON8gs45gf1Wq",
        "outputId": "6a236d9b-0788-4b4b-fcac-3124c8378235"
      },
      "execution_count": 101,
      "outputs": [
        {
          "output_type": "stream",
          "name": "stdout",
          "text": [
            "epoch: 60 MNIST {Correct: 59911 Accuracy: 0.999 Loss: 438.96 } RANDOM {Correct: 26313 Accuracy: 0.439 Loss: 778.34 } Total {Correct: 86224 Accuracy: 0.719 loss: 1217.29 }\n",
            "epoch: 61 MNIST {Correct: 59908 Accuracy: 0.998 Loss: 438.93 } RANDOM {Correct: 26438 Accuracy: 0.441 Loss: 777.71 } Total {Correct: 86346 Accuracy: 0.720 loss: 1216.65 }\n",
            "epoch: 62 MNIST {Correct: 59909 Accuracy: 0.998 Loss: 438.93 } RANDOM {Correct: 26511 Accuracy: 0.442 Loss: 777.33 } Total {Correct: 86420 Accuracy: 0.720 loss: 1216.26 }\n",
            "epoch: 63 MNIST {Correct: 59915 Accuracy: 0.999 Loss: 438.93 } RANDOM {Correct: 26499 Accuracy: 0.442 Loss: 777.36 } Total {Correct: 86414 Accuracy: 0.720 loss: 1216.29 }\n",
            "epoch: 64 MNIST {Correct: 59897 Accuracy: 0.998 Loss: 439.00 } RANDOM {Correct: 26621 Accuracy: 0.444 Loss: 776.67 } Total {Correct: 86518 Accuracy: 0.721 loss: 1215.67 }\n",
            "epoch: 65 MNIST {Correct: 59917 Accuracy: 0.999 Loss: 438.90 } RANDOM {Correct: 26734 Accuracy: 0.446 Loss: 776.02 } Total {Correct: 86651 Accuracy: 0.722 loss: 1214.93 }\n",
            "epoch: 66 MNIST {Correct: 59917 Accuracy: 0.999 Loss: 438.90 } RANDOM {Correct: 26797 Accuracy: 0.447 Loss: 775.81 } Total {Correct: 86714 Accuracy: 0.723 loss: 1214.71 }\n",
            "epoch: 67 MNIST {Correct: 59908 Accuracy: 0.998 Loss: 438.93 } RANDOM {Correct: 26854 Accuracy: 0.448 Loss: 775.40 } Total {Correct: 86762 Accuracy: 0.723 loss: 1214.33 }\n",
            "epoch: 68 MNIST {Correct: 59914 Accuracy: 0.999 Loss: 438.91 } RANDOM {Correct: 26933 Accuracy: 0.449 Loss: 774.98 } Total {Correct: 86847 Accuracy: 0.724 loss: 1213.89 }\n",
            "epoch: 69 MNIST {Correct: 59923 Accuracy: 0.999 Loss: 438.88 } RANDOM {Correct: 27060 Accuracy: 0.451 Loss: 774.26 } Total {Correct: 86983 Accuracy: 0.725 loss: 1213.15 }\n",
            "epoch: 70 MNIST {Correct: 59901 Accuracy: 0.998 Loss: 438.98 } RANDOM {Correct: 27065 Accuracy: 0.451 Loss: 774.34 } Total {Correct: 86966 Accuracy: 0.725 loss: 1213.31 }\n",
            "epoch: 71 MNIST {Correct: 59907 Accuracy: 0.998 Loss: 438.96 } RANDOM {Correct: 27211 Accuracy: 0.454 Loss: 773.80 } Total {Correct: 87118 Accuracy: 0.726 loss: 1212.76 }\n",
            "epoch: 72 MNIST {Correct: 59906 Accuracy: 0.998 Loss: 438.95 } RANDOM {Correct: 27297 Accuracy: 0.455 Loss: 773.61 } Total {Correct: 87203 Accuracy: 0.727 loss: 1212.56 }\n",
            "epoch: 73 MNIST {Correct: 59908 Accuracy: 0.998 Loss: 438.98 } RANDOM {Correct: 27460 Accuracy: 0.458 Loss: 773.13 } Total {Correct: 87368 Accuracy: 0.728 loss: 1212.11 }\n",
            "epoch: 74 MNIST {Correct: 59915 Accuracy: 0.999 Loss: 438.95 } RANDOM {Correct: 27721 Accuracy: 0.462 Loss: 772.14 } Total {Correct: 87636 Accuracy: 0.730 loss: 1211.09 }\n",
            "epoch: 75 MNIST {Correct: 59907 Accuracy: 0.998 Loss: 438.95 } RANDOM {Correct: 27813 Accuracy: 0.464 Loss: 771.49 } Total {Correct: 87720 Accuracy: 0.731 loss: 1210.45 }\n",
            "epoch: 76 MNIST {Correct: 59924 Accuracy: 0.999 Loss: 438.91 } RANDOM {Correct: 27940 Accuracy: 0.466 Loss: 770.93 } Total {Correct: 87864 Accuracy: 0.732 loss: 1209.85 }\n",
            "epoch: 77 MNIST {Correct: 59920 Accuracy: 0.999 Loss: 438.91 } RANDOM {Correct: 28066 Accuracy: 0.468 Loss: 770.16 } Total {Correct: 87986 Accuracy: 0.733 loss: 1209.07 }\n",
            "epoch: 78 MNIST {Correct: 59915 Accuracy: 0.999 Loss: 438.93 } RANDOM {Correct: 28083 Accuracy: 0.468 Loss: 770.01 } Total {Correct: 87998 Accuracy: 0.733 loss: 1208.94 }\n",
            "epoch: 79 MNIST {Correct: 59907 Accuracy: 0.998 Loss: 438.97 } RANDOM {Correct: 28210 Accuracy: 0.470 Loss: 769.35 } Total {Correct: 88117 Accuracy: 0.734 loss: 1208.33 }\n"
          ]
        }
      ]
    }
  ]
}