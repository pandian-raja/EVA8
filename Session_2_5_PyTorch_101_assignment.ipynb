{
  "nbformat": 4,
  "nbformat_minor": 0,
  "metadata": {
    "colab": {
      "provenance": [],
      "authorship_tag": "ABX9TyOPGn/PR2kLmMxNIj22nvKM",
      "include_colab_link": true
    },
    "kernelspec": {
      "name": "python3",
      "display_name": "Python 3"
    },
    "language_info": {
      "name": "python"
    },
    "accelerator": "GPU",
    "gpuClass": "standard"
  },
  "cells": [
    {
      "cell_type": "markdown",
      "metadata": {
        "id": "view-in-github",
        "colab_type": "text"
      },
      "source": [
        "<a href=\"https://colab.research.google.com/github/pandian-raja/EVA8/blob/main/Session_2_5_PyTorch_101_assignment.ipynb\" target=\"_parent\"><img src=\"https://colab.research.google.com/assets/colab-badge.svg\" alt=\"Open In Colab\"/></a>"
      ]
    },
    {
      "cell_type": "code",
      "execution_count": 43,
      "metadata": {
        "id": "uoeuilKL0sI6"
      },
      "outputs": [],
      "source": [
        "import torch\n",
        "import torchvision\n",
        "import torchvision.transforms as transforms\n",
        "from torch.utils.data import Dataset\n",
        "import numpy as np\n",
        "import torch.nn as nn\n",
        "import torch.nn.functional as F\n",
        "import torch.optim as optim\n",
        "\n",
        "randomNumber = torch.tensor([0,1,2,3,4,5,6,7,8,9])"
      ]
    },
    {
      "cell_type": "code",
      "source": [
        "class TestDataSet(Dataset):\n",
        "    def __init__(self):\n",
        "        self.data = torchvision.datasets.MNIST('/content/mnist', train=False, download=True, transform=torchvision.transforms.Compose([\n",
        "                               torchvision.transforms.ToTensor(),\n",
        "                               torchvision.transforms.Normalize(\n",
        "                                 (0.1307,), (0.3081,))\n",
        "                             ]))\n",
        "        \n",
        "        self.random = torch.randint(0, 10, (len(self.data),))\n",
        "        \n",
        "    def __getitem__(self, index):\n",
        "        image, label = self.data[index]\n",
        "        randomInput = randomNumber.eq(self.random[index]).long()\n",
        "        return image, label, randomInput\n",
        "\n",
        "    def __len__(self):\n",
        "        return len(self.data)"
      ],
      "metadata": {
        "id": "ENl4KoyUY-ja"
      },
      "execution_count": 44,
      "outputs": []
    },
    {
      "cell_type": "code",
      "source": [
        "class TrainDataSet(Dataset):\n",
        "    def __init__(self):\n",
        "        self.data = torchvision.datasets.MNIST('/content/mnist', train=True, download=True, transform=torchvision.transforms.Compose([\n",
        "                               torchvision.transforms.ToTensor(),\n",
        "                               torchvision.transforms.Normalize(\n",
        "                                 (0.1307,), (0.3081,))\n",
        "                             ]))\n",
        "        self.random = torch.randint(0, 10, (len(self.data),))\n",
        "        \n",
        "    def __getitem__(self, index):\n",
        "        image, label = self.data[index]\n",
        "        randomInput = randomNumber.eq(self.random[index]).long()\n",
        "        return image, label, randomInput\n",
        "\n",
        "    def __len__(self):\n",
        "        return len(self.data)"
      ],
      "metadata": {
        "id": "wwc9FgBplEOk"
      },
      "execution_count": 45,
      "outputs": []
    },
    {
      "cell_type": "code",
      "source": [
        "class Network(nn.Module):\n",
        "\n",
        "    def __init__(self):\n",
        "        super().__init__()\n",
        "        #3x3: SIZE { in = 28 , out= 26}, recptive field = 3, CHANNEL { in = 1, out= 32 }\n",
        "        self.conv1 = nn.Conv2d(in_channels=1,out_channels=16,kernel_size=3)\n",
        "        #3x3: SIZE { in = 26, out= 24}, recptive field = 5, CHANNEL { in = 32, out= 64 }\n",
        "        self.conv2 = nn.Conv2d(in_channels=16,out_channels=32,kernel_size=3)\n",
        "        #3x3: SIZE { in = 24, out = 22},  recptive field = 7, CHANNEL { in = 64, out= 128 }\n",
        "        self.conv3 = nn.Conv2d(in_channels=32,out_channels=64,kernel_size=3)\n",
        "        \n",
        "        #MX: SIZE { in = 22, out = 11},  recptive field = 14, TODO: CHANNEL { in = 64, out= 128 }\n",
        "\n",
        "        #3x3: SIZE { in = 11, out = 9},  recptive field = 16, CHANNEL { in = 64, out= 128 }\n",
        "        self.conv4 = nn.Conv2d(in_channels=64,out_channels=128,kernel_size=3)\n",
        "        #F: SIZE { in = 24, out = 22},  TODO: recptive field = 7, CHANNEL { in = 64, out= 128 }\n",
        "        self.fc1 = nn.Linear(in_features=128*9*9,out_features=64)\n",
        "        #F: SIZE { in = 24, out = 22},  TODO: recptive field = 7, CHANNEL { in = 64, out= 128 }\n",
        "        self.fc2 = nn.Linear(in_features=64,out_features=10)\n",
        "        \n",
        "        self.fc3 = nn.Linear(in_features=10,out_features=20)\n",
        "\n",
        "        self.out = nn.Linear(in_features=20,out_features=19)\n",
        "\n",
        "    def forward(self, image, random):\n",
        "\n",
        "        x = image\n",
        "        x = self.conv1(x)\n",
        "        x = F.relu(x)\n",
        "        x = self.conv2(x)\n",
        "        x = F.relu(x)\n",
        "        x = self.conv3(x)\n",
        "        x = F.relu(x)\n",
        "        x = F.max_pool2d(x, kernel_size=2) \n",
        "        x = self.conv4(x)\n",
        "        x = F.relu(x)\n",
        "        x = x.reshape(-1, 128*9*9)\n",
        "        # x = x.reshape(1, -1)\n",
        "        x = self.fc1(x)\n",
        "        x = F.relu(x)\n",
        "        mnist_output = self.fc2(x)\n",
        "        x = mnist_output+random\n",
        "        x = self.fc3(x)\n",
        "        x = F.relu(x)\n",
        "        x = self.out(x)\n",
        "        mnist_output = F.softmax(mnist_output, dim=1)\n",
        "        x = F.softmax(x, dim=1)\n",
        "        return mnist_output, x"
      ],
      "metadata": {
        "id": "W0kTyKjslYOb"
      },
      "execution_count": 46,
      "outputs": []
    },
    {
      "cell_type": "code",
      "source": [
        "def get_num_correct(images, labels, random, random_label):\n",
        "    \n",
        "    return images.argmax(dim=1).eq(labels).sum().item(), random.argmax(dim=1).eq(random_label).sum().item()\n"
      ],
      "metadata": {
        "id": "9IFAb1SOMG97"
      },
      "execution_count": 47,
      "outputs": []
    },
    {
      "cell_type": "code",
      "source": [
        "device = torch.device('cuda' if torch.cuda.is_available() else 'cpu')\n",
        "network  = Network()\n",
        "network.to(device)\n",
        "testDataset = TestDataSet()\n",
        "trainDataset = TrainDataSet()\n",
        "testDataLoader = torch.utils.data.DataLoader(testDataset, batch_size=200, shuffle= True)\n",
        "trainDataLoader = torch.utils.data.DataLoader(trainDataset, batch_size=200, shuffle= True)\n",
        "optimizer = optim.Adam(network.parameters(), lr=0.001)\n",
        "totalEpoch = 10\n",
        "for epoch in range(totalEpoch):\n",
        "    total_mnist_loss = 0\n",
        "    total_mnist_correct = 0\n",
        "    total_random_correct = 0\n",
        "    total_random_loss = 0\n",
        "    for batch in trainDataLoader:\n",
        "        images, labels, randoms = batch\n",
        "        images, labels, randoms = images.to(device), labels.to(device), randoms.to(device)\n",
        "        random_labels = labels+randoms.argmax(dim=1)\n",
        "        mnist_predict, random_predict = network(images, randoms)\n",
        "        mnist_loss = F.cross_entropy(mnist_predict, labels)\n",
        "        random_loss = F.cross_entropy(random_predict, random_labels)\n",
        "        total_mnist_loss += mnist_loss.item()\n",
        "        total_random_loss += random_loss.item()\n",
        "        loss = mnist_loss+random_loss\n",
        "        optimizer.zero_grad()\n",
        "        loss.backward()\n",
        "        optimizer.step()\n",
        "        total_mnist_correct, total_random_correct = get_num_correct(mnist_predict,labels,random_predict,random_labels)\n",
        "\n",
        "\n",
        "    print(\n",
        "        \"epoch:\", epoch, \n",
        "        \"mnist_correct:\", total_mnist_correct, \n",
        "        \"mnist_loss: %.2f\" % total_mnist_loss,\n",
        "        \"random_correct:\", total_random_correct, \n",
        "        \"random_loss: %.2f\" % total_random_loss,\n",
        "        \"total_correct:\", total_mnist_correct+total_random_correct, \n",
        "        \"loss: %.2f\" % (total_mnist_loss+total_random_loss)\n",
        "    )\n",
        "\n"
      ],
      "metadata": {
        "colab": {
          "base_uri": "https://localhost:8080/"
        },
        "id": "_dEg-kDZE0a5",
        "outputId": "f61533b4-4359-482e-a02a-5f4de431f6d8"
      },
      "execution_count": 54,
      "outputs": [
        {
          "output_type": "stream",
          "name": "stdout",
          "text": [
            "epoch: 0 mnist_correct: 186 mnist_loss: 489.80 random_correct: 20 random_loss: 873.82 total_correct: 206 loss: 1363.61\n",
            "epoch: 1 mnist_correct: 182 mnist_loss: 470.93 random_correct: 6 random_loss: 869.69 total_correct: 188 loss: 1340.62\n",
            "epoch: 2 mnist_correct: 198 mnist_loss: 467.25 random_correct: 24 random_loss: 868.08 total_correct: 222 loss: 1335.32\n",
            "epoch: 3 mnist_correct: 198 mnist_loss: 442.55 random_correct: 23 random_loss: 867.27 total_correct: 221 loss: 1309.82\n",
            "epoch: 4 mnist_correct: 200 mnist_loss: 441.58 random_correct: 25 random_loss: 865.30 total_correct: 225 loss: 1306.88\n",
            "epoch: 5 mnist_correct: 199 mnist_loss: 441.02 random_correct: 29 random_loss: 863.19 total_correct: 228 loss: 1304.21\n",
            "epoch: 6 mnist_correct: 199 mnist_loss: 440.58 random_correct: 27 random_loss: 860.11 total_correct: 226 loss: 1300.69\n",
            "epoch: 7 mnist_correct: 199 mnist_loss: 440.39 random_correct: 33 random_loss: 856.33 total_correct: 232 loss: 1296.71\n",
            "epoch: 8 mnist_correct: 199 mnist_loss: 440.28 random_correct: 47 random_loss: 851.46 total_correct: 246 loss: 1291.74\n",
            "epoch: 9 mnist_correct: 199 mnist_loss: 440.21 random_correct: 53 random_loss: 845.54 total_correct: 252 loss: 1285.75\n"
          ]
        }
      ]
    },
    {
      "cell_type": "code",
      "source": [
        "print(\"loss: %.2f\" % (total_mnist_loss+total_random_loss))"
      ],
      "metadata": {
        "colab": {
          "base_uri": "https://localhost:8080/"
        },
        "id": "j_ubcAutEqfY",
        "outputId": "64b0c8fd-0b25-4b9c-c4c6-f44ef8d77060"
      },
      "execution_count": 53,
      "outputs": [
        {
          "output_type": "stream",
          "name": "stdout",
          "text": [
            "loss: 1384.87\n"
          ]
        }
      ]
    },
    {
      "cell_type": "code",
      "source": [
        "for epoch in range(totalEpoch):\n",
        "    total_mnist_loss = 0\n",
        "    total_mnist_correct = 0\n",
        "    total_random_correct = 0\n",
        "    total_random_loss = 0\n",
        "    for batch in trainDataLoader:\n",
        "        images, labels, randoms, x = batch\n",
        "        images, labels, randoms = images.to(device), labels.to(device), randoms.to(device)\n",
        "        random_labels = labels+randoms.argmax(dim=1)\n",
        "        mnist_predict, random_predict = network(images, randoms)\n",
        "        mnist_loss = F.cross_entropy(mnist_predict, labels)\n",
        "        random_loss = F.cross_entropy(random_predict, random_labels)\n",
        "        total_mnist_loss += mnist_loss.item()\n",
        "        total_random_loss += random_loss.item()\n",
        "        loss = mnist_loss+random_loss\n",
        "        optimizer.zero_grad()\n",
        "        loss.backward()\n",
        "        optimizer.step()\n",
        "        total_mnist_correct, total_random_correct = get_num_correct(mnist_predict,labels,random_predict,random_labels)\n",
        "\n",
        "\n",
        "    print(\n",
        "        \"epoch:\", epoch, \n",
        "        \"mnist_correct:\", total_mnist_correct, \n",
        "        \"mnist_loss: %.2f\" % total_mnist_loss,\n",
        "        \"random_correct:\", total_random_correct, \n",
        "        \"random_loss: %.2f\" % total_random_loss,\n",
        "        \"total_correct:\", total_mnist_correct+total_random_correct, \n",
        "        \"loss: %.2f\" % total_mnist_loss+total_random_loss\n",
        "    )"
      ],
      "metadata": {
        "colab": {
          "base_uri": "https://localhost:8080/"
        },
        "id": "P3Da3THN-ekO",
        "outputId": "0b952c04-5a86-4563-fd98-7e6819c1f6b6"
      },
      "execution_count": 22,
      "outputs": [
        {
          "output_type": "stream",
          "name": "stdout",
          "text": [
            "epoch: 0 mnist_correct: 198 mnist_loss: 440.13707852363586 random_correct: 30 random_loss: 853.687361240387 total_correct: 228 loss: 1293.8244395256042\n",
            "epoch: 1 mnist_correct: 200 mnist_loss: 440.1806298494339 random_correct: 41 random_loss: 849.637229681015 total_correct: 241 loss: 1289.817862033844\n",
            "epoch: 2 mnist_correct: 198 mnist_loss: 440.00813949108124 random_correct: 42 random_loss: 845.2159383296967 total_correct: 240 loss: 1285.22407579422\n",
            "epoch: 3 mnist_correct: 198 mnist_loss: 440.0135688781738 random_correct: 51 random_loss: 841.6334455013275 total_correct: 249 loss: 1281.6470112800598\n",
            "epoch: 4 mnist_correct: 200 mnist_loss: 439.9158339500427 random_correct: 49 random_loss: 838.7114663124084 total_correct: 249 loss: 1278.6272983551025\n",
            "epoch: 5 mnist_correct: 198 mnist_loss: 439.8821151256561 random_correct: 49 random_loss: 835.4232578277588 total_correct: 247 loss: 1275.3053755760193\n",
            "epoch: 6 mnist_correct: 200 mnist_loss: 439.89011669158936 random_correct: 50 random_loss: 832.356796503067 total_correct: 250 loss: 1272.2469158172607\n",
            "epoch: 7 mnist_correct: 199 mnist_loss: 439.72753739356995 random_correct: 59 random_loss: 828.961948633194 total_correct: 258 loss: 1268.6894826889038\n",
            "epoch: 8 mnist_correct: 199 mnist_loss: 439.7312442064285 random_correct: 53 random_loss: 826.292311668396 total_correct: 252 loss: 1266.023558139801\n",
            "epoch: 9 mnist_correct: 198 mnist_loss: 439.73312067985535 random_correct: 58 random_loss: 824.0825006961823 total_correct: 256 loss: 1263.8156213760376\n"
          ]
        }
      ]
    },
    {
      "cell_type": "code",
      "source": [
        "network = Network()\n",
        "testDataset = TestDataSet()\n",
        "testDataLoader = torch.utils.data.DataLoader(testDataset, batch_size=2, shuffle= True)\n",
        "batch = next(iter(testDataLoader))"
      ],
      "metadata": {
        "id": "VC_DeYx1tpP2"
      },
      "execution_count": 41,
      "outputs": []
    },
    {
      "cell_type": "code",
      "source": [
        "preds = network(batch[0], batch[2])\n",
        "loss1 = F.cross_entropy(preds[0], batch[1])\n",
        "loss2 = F.cross_entropy(preds[1], batch[3])\n",
        "loss = loss2+loss1\n",
        "print(loss1.item(),loss2.item(), get_num_correct(preds, batch[1], batch[2]))\n",
        "optimizer.zero_grad()\n",
        "loss.backward()\n",
        "optimizer.step()"
      ],
      "metadata": {
        "colab": {
          "base_uri": "https://localhost:8080/"
        },
        "id": "oxscQwvPOU68",
        "outputId": "057c2e14-fd93-485f-fa61-1d3ba4c43d6b"
      },
      "execution_count": 513,
      "outputs": [
        {
          "output_type": "stream",
          "name": "stdout",
          "text": [
            "1.828912615776062 2.748772382736206 (63, 28)\n"
          ]
        }
      ]
    },
    {
      "cell_type": "code",
      "source": [
        "\n",
        "# for epoch in range(totalEpoch):\n",
        "#     total_loss = 0\n",
        "#     total_correct = 0\n",
        "#     mnist_loss = 0\n",
        "#     random_loss = 0\n",
        "#     for batch in trainDataLoader:\n",
        "#         images, labels, randoms, x = batch\n",
        "#         images, labels, randoms = images.to(device), labels.to(device), randoms.to(device)\n",
        "#         random_labels = labels+randoms.argmax(dim=1)\n",
        "#         mnist_predict, random_predict = network(images, randoms)\n",
        "#         mnist_loss = F.cross_entropy(mnist_predict, labels)\n",
        "#         random_loss = F.cross_entropy(random_predict, random_labels)\n",
        "#         loss = mnist_loss+random_loss\n",
        "#         optimizer.zero_grad()\n",
        "#         loss.backward()\n",
        "#         optimizer.step()\n",
        "#         total_loss += loss.item()\n",
        "#         total_correct += sum(get_num_correct(mnist_predict,labels,random_predict,random_labels))\n",
        "\n",
        "\n",
        "#     print(\n",
        "#         \"epoch:\", epoch, \n",
        "#         \"total_correct:\", total_correct, \n",
        "#         \"loss:\", total_loss\n",
        "#     )"
      ],
      "metadata": {
        "id": "0cEF8OjxEjbu"
      },
      "execution_count": null,
      "outputs": []
    }
  ]
}