{
  "nbformat": 4,
  "nbformat_minor": 0,
  "metadata": {
    "colab": {
      "provenance": [],
      "authorship_tag": "ABX9TyM6RrqcuI5minIDfpSZX1Op",
      "include_colab_link": true
    },
    "kernelspec": {
      "name": "python3",
      "display_name": "Python 3"
    },
    "language_info": {
      "name": "python"
    },
    "accelerator": "GPU",
    "gpuClass": "standard"
  },
  "cells": [
    {
      "cell_type": "markdown",
      "metadata": {
        "id": "view-in-github",
        "colab_type": "text"
      },
      "source": [
        "<a href=\"https://colab.research.google.com/github/pandian-raja/EVA8/blob/main/Session_2_5_PyTorch_101_assignment.ipynb\" target=\"_parent\"><img src=\"https://colab.research.google.com/assets/colab-badge.svg\" alt=\"Open In Colab\"/></a>"
      ]
    },
    {
      "cell_type": "code",
      "execution_count": 2,
      "metadata": {
        "id": "uoeuilKL0sI6"
      },
      "outputs": [],
      "source": [
        "import torch\n",
        "import torchvision\n",
        "import torchvision.transforms as transforms\n",
        "from torch.utils.data import Dataset\n",
        "import numpy as np\n",
        "import torch.nn as nn\n",
        "import torch.nn.functional as F\n",
        "import torch.optim as optim\n",
        "\n",
        "randomNumber = torch.tensor([0,1,2,3,4,5,6,7,8,9])"
      ]
    },
    {
      "cell_type": "code",
      "source": [
        "class TestDataSet(Dataset):\n",
        "    def __init__(self):\n",
        "        self.data = torchvision.datasets.MNIST('/content/mnist', train=False, download=True, transform=torchvision.transforms.Compose([\n",
        "                               torchvision.transforms.ToTensor(),\n",
        "                               torchvision.transforms.Normalize(\n",
        "                                 (0.1307,), (0.3081,))\n",
        "                             ]))\n",
        "        \n",
        "        self.random = torch.randint(0, 10, (len(self.data),))\n",
        "        \n",
        "    def __getitem__(self, index):\n",
        "        image, label = self.data[index]\n",
        "        randomInput = randomNumber.eq(self.random[index]).long()\n",
        "        return image, label, randomInput\n",
        "\n",
        "    def __len__(self):\n",
        "        return len(self.data)"
      ],
      "metadata": {
        "id": "ENl4KoyUY-ja"
      },
      "execution_count": 3,
      "outputs": []
    },
    {
      "cell_type": "code",
      "source": [
        "class TrainDataSet(Dataset):\n",
        "    def __init__(self):\n",
        "        self.data = torchvision.datasets.MNIST('/content/mnist', train=True, download=True, transform=torchvision.transforms.Compose([\n",
        "                               torchvision.transforms.ToTensor(),\n",
        "                               torchvision.transforms.Normalize(\n",
        "                                 (0.1307,), (0.3081,))\n",
        "                             ]))\n",
        "        self.random = torch.randint(0, 10, (len(self.data),))\n",
        "        \n",
        "    def __getitem__(self, index):\n",
        "        image, label = self.data[index]\n",
        "        randomInput = randomNumber.eq(self.random[index]).long()\n",
        "        return image, label, randomInput\n",
        "\n",
        "    def __len__(self):\n",
        "        return len(self.data)"
      ],
      "metadata": {
        "id": "wwc9FgBplEOk"
      },
      "execution_count": 4,
      "outputs": []
    },
    {
      "cell_type": "code",
      "source": [
        "class Network(nn.Module):\n",
        "\n",
        "    def __init__(self):\n",
        "        super().__init__()\n",
        "        self.conv1 = nn.Conv2d(in_channels=1,out_channels=16,kernel_size=3)\n",
        "        self.conv2 = nn.Conv2d(in_channels=16,out_channels=32,kernel_size=3)\n",
        "        self.conv3 = nn.Conv2d(in_channels=32,out_channels=64,kernel_size=3)\n",
        "        self.conv4 = nn.Conv2d(in_channels=64,out_channels=128,kernel_size=3)\n",
        "        \n",
        "        self.fc1 = nn.Linear(in_features=128*9*9,out_features=64)\n",
        "        self.fc2 = nn.Linear(in_features=64,out_features=10)\n",
        "        \n",
        "        self.fc3 = nn.Linear(in_features=10,out_features=20)\n",
        "\n",
        "        self.out = nn.Linear(in_features=20,out_features=19)\n",
        "\n",
        "    def forward(self, image, random):\n",
        "\n",
        "        x = image\n",
        "        x = self.conv1(x)\n",
        "        x = F.relu(x)\n",
        "        x = self.conv2(x)\n",
        "        x = F.relu(x)\n",
        "        x = self.conv3(x)\n",
        "        x = F.relu(x)\n",
        "        x = F.max_pool2d(x, kernel_size=2) \n",
        "        x = self.conv4(x)\n",
        "        x = F.relu(x)\n",
        "        x = x.reshape(-1, 128*9*9)\n",
        "        # x = x.reshape(1, -1)\n",
        "        x = self.fc1(x)\n",
        "        x = F.relu(x)\n",
        "        mnist_output = self.fc2(x)\n",
        "        x = mnist_output+random\n",
        "        x = self.fc3(x)\n",
        "        x = F.relu(x)\n",
        "        x = self.out(x)\n",
        "        mnist_output = F.softmax(mnist_output, dim=1)\n",
        "        x = F.softmax(x, dim=1)\n",
        "        return mnist_output, x"
      ],
      "metadata": {
        "id": "W0kTyKjslYOb"
      },
      "execution_count": 5,
      "outputs": []
    },
    {
      "cell_type": "code",
      "source": [
        "def get_num_correct(images, labels, random, random_label):\n",
        "    \n",
        "    return images.argmax(dim=1).eq(labels).sum().item(), random.argmax(dim=1).eq(random_label).sum().item()\n"
      ],
      "metadata": {
        "id": "9IFAb1SOMG97"
      },
      "execution_count": 6,
      "outputs": []
    },
    {
      "cell_type": "code",
      "source": [
        "device = torch.device('cuda' if torch.cuda.is_available() else 'cpu')\n",
        "network  = Network()\n",
        "network.to(device)\n",
        "testDataset = TestDataSet()\n",
        "trainDataset = TrainDataSet()\n",
        "testDataLoader = torch.utils.data.DataLoader(testDataset, batch_size=200, shuffle= True)\n",
        "trainDataLoader = torch.utils.data.DataLoader(trainDataset, batch_size=200, shuffle= True)\n",
        "optimizer = optim.Adam(network.parameters(), lr=0.001)\n",
        "totalEpoch = 10\n",
        "for epoch in range(totalEpoch):\n",
        "    total_mnist_loss = 0\n",
        "    total_mnist_correct = 0\n",
        "    total_random_correct = 0\n",
        "    total_random_loss = 0\n",
        "    for batch in trainDataLoader:\n",
        "        images, labels, randoms = batch\n",
        "        images, labels, randoms = images.to(device), labels.to(device), randoms.to(device)\n",
        "        random_labels = labels+randoms.argmax(dim=1)\n",
        "        mnist_predict, random_predict = network(images, randoms)\n",
        "        mnist_loss = F.cross_entropy(mnist_predict, labels)\n",
        "        random_loss = F.cross_entropy(random_predict, random_labels)\n",
        "        total_mnist_loss += mnist_loss.item()\n",
        "        total_random_loss += random_loss.item()\n",
        "        loss = mnist_loss+random_loss\n",
        "        optimizer.zero_grad()\n",
        "        loss.backward()\n",
        "        optimizer.step()\n",
        "        result = get_num_correct(mnist_predict,labels,random_predict,random_labels)\n",
        "        total_mnist_correct += result[0]\n",
        "        total_random_correct += result[1]\n",
        "\n",
        "    mnist_accuracy = total_mnist_correct/len(trainDataset)\n",
        "    random_accuracy = total_random_correct/len(trainDataset)\n",
        "    print(\n",
        "        \"epoch:\", epoch, \n",
        "        \"MNIST { Correct:\", total_mnist_correct, \n",
        "        \"Accuracy: %.2f\" %mnist_accuracy,\n",
        "        \"Loss: %.2f\" % total_mnist_loss,\n",
        "        \"} {RANDOM Correct:\", total_random_correct, \n",
        "        \"Accuracy: %.2f\" %random_accuracy,\n",
        "        \"Loss: %.2f\" % total_random_loss,\n",
        "        \"} { Total Correct:\", total_mnist_correct+total_random_correct, \n",
        "        \"Accuracy: %.2f\" %((random_accuracy+mnist_accuracy)/2),\n",
        "        \"loss: %.2f }\" % (total_mnist_loss+total_random_loss)\n",
        "    )"
      ],
      "metadata": {
        "colab": {
          "base_uri": "https://localhost:8080/"
        },
        "id": "_dEg-kDZE0a5",
        "outputId": "e5847784-631e-410d-fa16-32cb5b448ebb"
      },
      "execution_count": 15,
      "outputs": [
        {
          "output_type": "stream",
          "name": "stdout",
          "text": [
            "epoch: 0 MNIST { Correct: 47015 Accuracy: 0.78 Loss: 503.20 } {RANDOM Correct: 5809 Accuracy: 0.10 Loss: 874.50 } { Total Correct: 52824 Accuracy: 0.44 loss: 1377.71 }\n",
            "epoch: 1 MNIST { Correct: 53535 Accuracy: 0.89 Loss: 470.78 } {RANDOM Correct: 6510 Accuracy: 0.11 Loss: 870.80 } { Total Correct: 60045 Accuracy: 0.50 loss: 1341.58 }\n",
            "epoch: 2 MNIST { Correct: 53823 Accuracy: 0.90 Loss: 469.07 } {RANDOM Correct: 6872 Accuracy: 0.11 Loss: 869.49 } { Total Correct: 60695 Accuracy: 0.51 loss: 1338.56 }\n",
            "epoch: 3 MNIST { Correct: 54059 Accuracy: 0.90 Loss: 467.70 } {RANDOM Correct: 7451 Accuracy: 0.12 Loss: 868.15 } { Total Correct: 61510 Accuracy: 0.51 loss: 1335.84 }\n",
            "epoch: 4 MNIST { Correct: 54148 Accuracy: 0.90 Loss: 467.02 } {RANDOM Correct: 7918 Accuracy: 0.13 Loss: 866.83 } { Total Correct: 62066 Accuracy: 0.52 loss: 1333.85 }\n",
            "epoch: 5 MNIST { Correct: 54213 Accuracy: 0.90 Loss: 466.63 } {RANDOM Correct: 8609 Accuracy: 0.14 Loss: 864.69 } { Total Correct: 62822 Accuracy: 0.52 loss: 1331.32 }\n",
            "epoch: 6 MNIST { Correct: 54282 Accuracy: 0.90 Loss: 466.28 } {RANDOM Correct: 9204 Accuracy: 0.15 Loss: 862.49 } { Total Correct: 63486 Accuracy: 0.53 loss: 1328.78 }\n",
            "epoch: 7 MNIST { Correct: 58613 Accuracy: 0.98 Loss: 445.76 } {RANDOM Correct: 9534 Accuracy: 0.16 Loss: 861.07 } { Total Correct: 68147 Accuracy: 0.57 loss: 1306.83 }\n",
            "epoch: 8 MNIST { Correct: 59658 Accuracy: 0.99 Loss: 440.60 } {RANDOM Correct: 10563 Accuracy: 0.18 Loss: 857.33 } { Total Correct: 70221 Accuracy: 0.59 loss: 1297.92 }\n",
            "epoch: 9 MNIST { Correct: 59694 Accuracy: 0.99 Loss: 440.38 } {RANDOM Correct: 11795 Accuracy: 0.20 Loss: 852.77 } { Total Correct: 71489 Accuracy: 0.60 loss: 1293.15 }\n"
          ]
        }
      ]
    },
    {
      "cell_type": "code",
      "source": [
        "totalEpoch = 20\n",
        "for epoch in range(totalEpoch):\n",
        "    total_mnist_loss = 0\n",
        "    total_mnist_correct = 0\n",
        "    total_random_correct = 0\n",
        "    total_random_loss = 0\n",
        "    for batch in trainDataLoader:\n",
        "        images, labels, randoms = batch\n",
        "        images, labels, randoms = images.to(device), labels.to(device), randoms.to(device)\n",
        "        random_labels = labels+randoms.argmax(dim=1)\n",
        "        mnist_predict, random_predict = network(images, randoms)\n",
        "        mnist_loss = F.cross_entropy(mnist_predict, labels)\n",
        "        random_loss = F.cross_entropy(random_predict, random_labels)\n",
        "        total_mnist_loss += mnist_loss.item()\n",
        "        total_random_loss += random_loss.item()\n",
        "        loss = mnist_loss+random_loss\n",
        "        optimizer.zero_grad()\n",
        "        loss.backward()\n",
        "        optimizer.step()\n",
        "        result = get_num_correct(mnist_predict,labels,random_predict,random_labels)\n",
        "        total_mnist_correct += result[0]\n",
        "        total_random_correct += result[1]\n",
        "\n",
        "    mnist_accuracy = total_mnist_correct/len(trainDataset)\n",
        "    random_accuracy = total_random_correct/len(trainDataset)\n",
        "    print(\n",
        "        \"epoch:\", epoch, \n",
        "        \"MNIST { Correct:\", total_mnist_correct, \n",
        "        \"Accuracy: %.2f\" %mnist_accuracy,\n",
        "        \"Loss: %.2f\" % total_mnist_loss,\n",
        "        \"} {RANDOM Correct:\", total_random_correct, \n",
        "        \"Accuracy: %.2f\" %random_accuracy,\n",
        "        \"Loss: %.2f\" % total_random_loss,\n",
        "        \"} { Total Correct:\", total_mnist_correct+total_random_correct, \n",
        "        \"Accuracy: %.2f\" %((random_accuracy+mnist_accuracy)/2),\n",
        "        \"loss: %.2f }\" % (total_mnist_loss+total_random_loss)\n",
        "    )"
      ],
      "metadata": {
        "colab": {
          "base_uri": "https://localhost:8080/"
        },
        "id": "XX55FMW_NIOy",
        "outputId": "353103cd-0848-43e6-c900-1979788460fb"
      },
      "execution_count": 16,
      "outputs": [
        {
          "output_type": "stream",
          "name": "stdout",
          "text": [
            "epoch: 0 MNIST { Correct: 59746 Accuracy: 1.00 Loss: 440.16 } {RANDOM Correct: 13034 Accuracy: 0.22 Loss: 847.30 } { Total Correct: 72780 Accuracy: 0.61 loss: 1287.46 }\n",
            "epoch: 1 MNIST { Correct: 59791 Accuracy: 1.00 Loss: 439.99 } {RANDOM Correct: 14445 Accuracy: 0.24 Loss: 841.36 } { Total Correct: 74236 Accuracy: 0.62 loss: 1281.34 }\n",
            "epoch: 2 MNIST { Correct: 59815 Accuracy: 1.00 Loss: 439.82 } {RANDOM Correct: 15937 Accuracy: 0.27 Loss: 834.59 } { Total Correct: 75752 Accuracy: 0.63 loss: 1274.41 }\n",
            "epoch: 3 MNIST { Correct: 59832 Accuracy: 1.00 Loss: 439.76 } {RANDOM Correct: 17406 Accuracy: 0.29 Loss: 827.43 } { Total Correct: 77238 Accuracy: 0.64 loss: 1267.19 }\n",
            "epoch: 4 MNIST { Correct: 59854 Accuracy: 1.00 Loss: 439.62 } {RANDOM Correct: 18932 Accuracy: 0.32 Loss: 820.26 } { Total Correct: 78786 Accuracy: 0.66 loss: 1259.88 }\n",
            "epoch: 5 MNIST { Correct: 59863 Accuracy: 1.00 Loss: 439.58 } {RANDOM Correct: 20141 Accuracy: 0.34 Loss: 813.84 } { Total Correct: 80004 Accuracy: 0.67 loss: 1253.41 }\n",
            "epoch: 6 MNIST { Correct: 59864 Accuracy: 1.00 Loss: 439.49 } {RANDOM Correct: 21478 Accuracy: 0.36 Loss: 807.27 } { Total Correct: 81342 Accuracy: 0.68 loss: 1246.76 }\n",
            "epoch: 7 MNIST { Correct: 59879 Accuracy: 1.00 Loss: 439.46 } {RANDOM Correct: 22450 Accuracy: 0.37 Loss: 801.74 } { Total Correct: 82329 Accuracy: 0.69 loss: 1241.20 }\n",
            "epoch: 8 MNIST { Correct: 59878 Accuracy: 1.00 Loss: 439.42 } {RANDOM Correct: 23465 Accuracy: 0.39 Loss: 796.64 } { Total Correct: 83343 Accuracy: 0.69 loss: 1236.06 }\n",
            "epoch: 9 MNIST { Correct: 59895 Accuracy: 1.00 Loss: 439.32 } {RANDOM Correct: 24221 Accuracy: 0.40 Loss: 792.31 } { Total Correct: 84116 Accuracy: 0.70 loss: 1231.63 }\n",
            "epoch: 10 MNIST { Correct: 59895 Accuracy: 1.00 Loss: 439.27 } {RANDOM Correct: 24926 Accuracy: 0.42 Loss: 788.30 } { Total Correct: 84821 Accuracy: 0.71 loss: 1227.57 }\n",
            "epoch: 11 MNIST { Correct: 59887 Accuracy: 1.00 Loss: 439.28 } {RANDOM Correct: 25514 Accuracy: 0.43 Loss: 785.02 } { Total Correct: 85401 Accuracy: 0.71 loss: 1224.30 }\n",
            "epoch: 12 MNIST { Correct: 59905 Accuracy: 1.00 Loss: 439.20 } {RANDOM Correct: 26023 Accuracy: 0.43 Loss: 782.24 } { Total Correct: 85928 Accuracy: 0.72 loss: 1221.44 }\n",
            "epoch: 13 MNIST { Correct: 59908 Accuracy: 1.00 Loss: 439.16 } {RANDOM Correct: 26431 Accuracy: 0.44 Loss: 779.84 } { Total Correct: 86339 Accuracy: 0.72 loss: 1219.00 }\n",
            "epoch: 14 MNIST { Correct: 59911 Accuracy: 1.00 Loss: 439.15 } {RANDOM Correct: 26779 Accuracy: 0.45 Loss: 777.81 } { Total Correct: 86690 Accuracy: 0.72 loss: 1216.97 }\n",
            "epoch: 15 MNIST { Correct: 59904 Accuracy: 1.00 Loss: 439.12 } {RANDOM Correct: 27095 Accuracy: 0.45 Loss: 776.03 } { Total Correct: 86999 Accuracy: 0.72 loss: 1215.15 }\n",
            "epoch: 16 MNIST { Correct: 59913 Accuracy: 1.00 Loss: 439.15 } {RANDOM Correct: 27347 Accuracy: 0.46 Loss: 774.40 } { Total Correct: 87260 Accuracy: 0.73 loss: 1213.55 }\n",
            "epoch: 17 MNIST { Correct: 59918 Accuracy: 1.00 Loss: 439.10 } {RANDOM Correct: 27589 Accuracy: 0.46 Loss: 773.06 } { Total Correct: 87507 Accuracy: 0.73 loss: 1212.16 }\n",
            "epoch: 18 MNIST { Correct: 59909 Accuracy: 1.00 Loss: 439.12 } {RANDOM Correct: 27820 Accuracy: 0.46 Loss: 771.96 } { Total Correct: 87729 Accuracy: 0.73 loss: 1211.08 }\n",
            "epoch: 19 MNIST { Correct: 59917 Accuracy: 1.00 Loss: 439.08 } {RANDOM Correct: 28188 Accuracy: 0.47 Loss: 770.00 } { Total Correct: 88105 Accuracy: 0.73 loss: 1209.08 }\n"
          ]
        }
      ]
    }
  ]
}